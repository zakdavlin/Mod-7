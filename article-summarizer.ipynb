{
 "cells": [
  {
   "cell_type": "markdown",
   "metadata": {},
   "source": [
    "# Web Mining and Applied NLP (44-620)\n",
    "\n",
    "## Final Project: Article Summarizer\n",
    "\n",
    "### Student Name: Zak Davlin\n",
    "\n",
    "### Article: https://draftsim.com/mtg-30th-anniversary-edition/https://draftsim.com/mtg-30th-anniversary-edition/\n",
    "Perform the tasks described in the Markdown cells below.  When you have completed the assignment make sure your code cells have all been run (and have output beneath them) and ensure you have committed and pushed ALL of your changes to your assignment repository.\n",
    "\n",
    "You should bring in code from previous assignments to help you answer the questions below.\n",
    "\n",
    "Every question that requires you to write code will have a code cell underneath it; you may either write your entire solution in that cell or write it in a python file (`.py`), then import and run the appropriate code to answer the question."
   ]
  },
  {
   "cell_type": "markdown",
   "metadata": {},
   "source": [
    "1. Find on the internet an article or blog post about a topic that interests you and you are able to get the text for using the technologies we have applied in the course.  Get the html for the article and store it in a file (which you must submit with your project)"
   ]
  },
  {
   "cell_type": "code",
   "execution_count": 4,
   "metadata": {},
   "outputs": [],
   "source": [
    "import requests\n",
    "import pickle\n",
    "r=requests.get('https://draftsim.com/mtg-30th-anniversary-edition/')\n",
    "with open('MTGBlog.pkl','wb') as f:\n",
    "    pickle.dump(r.text,f)"
   ]
  },
  {
   "cell_type": "markdown",
   "metadata": {},
   "source": [
    "2. Read in your article's html source from the file you created in question 1 and do sentiment analysis on the article/post's text (use `.get_text()`).  Print the polarity score with an appropriate label.  Additionally print the number of sentences in the original article (with an appropriate label)"
   ]
  },
  {
   "cell_type": "code",
   "execution_count": 130,
   "metadata": {},
   "outputs": [
    {
     "name": "stdout",
     "output_type": "stream",
     "text": [
      "Polarity Score of the Aritcle:   0.13234031132581855\n",
      "Number of Sentences in Article:   141\n"
     ]
    }
   ],
   "source": [
    "import pickle\n",
    "import spacy\n",
    "from bs4 import BeautifulSoup\n",
    "from spacytextblob.spacytextblob import SpacyTextBlob\n",
    "\n",
    "with open('MTGBlog.pkl', 'rb') as f:\n",
    "    htmldoc = pickle.load(f)\n",
    "soup=BeautifulSoup(htmldoc,'html5lib')\n",
    "\n",
    "text=soup.find(\"article\")    \n",
    "nlp = spacy.load('en_core_web_sm')\n",
    "nlp.add_pipe('spacytextblob')\n",
    "doc=nlp(text.get_text())\n",
    "print(\"Polarity Score of the Aritcle:  \", doc._.blob.polarity)\n",
    "i=0\n",
    "for sentence in list(doc.sents) :\n",
    "    i+=1\n",
    "print(\"Number of Sentences in Article:  \",i)\n",
    "\n"
   ]
  },
  {
   "cell_type": "markdown",
   "metadata": {},
   "source": [
    "3. Load the article text into a trained `spaCy` pipeline, and determine the 5 most frequent tokens (converted to lower case).  Print the common tokens with an appropriate label.  Additionally, print the tokens their frequencies (with appropriate labels)"
   ]
  },
  {
   "cell_type": "code",
   "execution_count": 6,
   "metadata": {},
   "outputs": [
    {
     "name": "stdout",
     "output_type": "stream",
     "text": [
      "[('anniversary', 44), ('30th', 43), ('edition', 37), ('cards', 25), ('set', 22)]\n"
     ]
    }
   ],
   "source": [
    "import spacy\n",
    "from spacytextblob.spacytextblob import SpacyTextBlob\n",
    "import pickle\n",
    "from bs4 import BeautifulSoup\n",
    "from collections import Counter\n",
    "with open ('MTGblog.pkl','rb') as f:\n",
    "    htmldoc=pickle.load(f)\n",
    "soup=BeautifulSoup(htmldoc,'html5lib')\n",
    "text=soup.find('article')\n",
    "nlp = spacy.load('en_core_web_sm')\n",
    "nlp.add_pipe('spacytextblob')\n",
    "doc=nlp(text.get_text())\n",
    "\n",
    "def important_words(token):\n",
    "    return not (token.is_space or token.is_punct or token.is_stop)\n",
    "\n",
    "important_tokens = [token for token in doc if important_words(token)]\n",
    "\n",
    "lowercase_important_tokens=[token.text.lower() for token in important_tokens]\n",
    "word_freq= Counter(map(str,lowercase_important_tokens))\n",
    "print (word_freq.most_common(5))"
   ]
  },
  {
   "cell_type": "markdown",
   "metadata": {},
   "source": [
    "4. Load the article text into a trained `spaCy` pipeline, and determine the 5 most frequent lemmas (converted to lower case).  Print the common lemmas with an appropriate label.  Additionally, print the lemmas with their frequencies (with appropriate labels)."
   ]
  },
  {
   "cell_type": "code",
   "execution_count": 8,
   "metadata": {},
   "outputs": [
    {
     "name": "stdout",
     "output_type": "stream",
     "text": [
      "[('anniversary', 44), ('30th', 43), ('edition', 37), ('card', 31), ('set', 23)]\n"
     ]
    }
   ],
   "source": [
    "import spacy\n",
    "from spacytextblob.spacytextblob import SpacyTextBlob\n",
    "import pickle\n",
    "from bs4 import BeautifulSoup\n",
    "from collections import Counter\n",
    "with open ('MTGBlog.pkl','rb') as f:\n",
    "    htmldoc=pickle.load(f)\n",
    "soup=BeautifulSoup(htmldoc,'html5lib')\n",
    "text=soup.find('article')\n",
    "nlp = spacy.load('en_core_web_sm')\n",
    "nlp.add_pipe('spacytextblob')\n",
    "doc=nlp(text.get_text())\n",
    "\n",
    "def important_words(token):\n",
    "    return not (token.is_space or token.is_punct or token.is_stop)\n",
    "important_lemmas=[token.lemma_.lower() for token in doc if important_words(token)]\n",
    "lemma_freq=Counter(important_lemmas)\n",
    "print(lemma_freq.most_common(5))"
   ]
  },
  {
   "cell_type": "markdown",
   "metadata": {},
   "source": [
    "5. Make a list containing the scores (using tokens) of every sentence in the article, and plot a histogram with appropriate titles and axis labels of the scores. From your histogram, what seems to be the most common range of scores (put the answer in a comment after your code)?"
   ]
  },
  {
   "cell_type": "code",
   "execution_count": 94,
   "metadata": {},
   "outputs": [
    {
     "data": {
      "text/plain": [
       "[Text(0.5, 0, 'TokenScores'),\n",
       " Text(0, 0.5, 'Frequency'),\n",
       " Text(0.5, 1.0, 'Token Score histogram')]"
      ]
     },
     "execution_count": 94,
     "metadata": {},
     "output_type": "execute_result"
    },
    {
     "data": {
      "image/png": "[encoded data removed]",
      "text/plain": [
       "<Figure size 432x288 with 1 Axes>"
      ]
     },
     "metadata": {
      "needs_background": "light"
     },
     "output_type": "display_data"
    }
   ],
   "source": [
    "import spacy\n",
    "from spacytextblob.spacytextblob import SpacyTextBlob\n",
    "import pickle\n",
    "from bs4 import BeautifulSoup\n",
    "from collections import Counter\n",
    "with open ('MTGBlog.pkl','rb') as f:\n",
    "    htmldoc=pickle.load(f)\n",
    "soup=BeautifulSoup(htmldoc,'html5lib')\n",
    "text=soup.find('article')\n",
    "nlp = spacy.load('en_core_web_sm')\n",
    "nlp.add_pipe('spacytextblob')\n",
    "doc=nlp(text.get_text())\n",
    "def important_words(token):\n",
    "    return not (token.is_space or token.is_punct or token.is_stop)\n",
    "important_tokens = [token for token in doc if important_words(token)]\n",
    "token_freq=Counter(map(str,important_tokens))\n",
    "important_tokens = set()\n",
    "for token, freq in token_freq.most_common(5):\n",
    "    important_tokens.add(token)\n",
    "\n",
    "important_lemmas=[token.lemma_.lower() for token in doc if important_words(token)]\n",
    "\n",
    "lemma_freq=Counter(important_lemmas)\n",
    "\n",
    "important_lemmas = set()\n",
    "for lemma, freq in lemma_freq.most_common(5):\n",
    "    important_lemmas.add(lemma)\n",
    "\n",
    "def score_sentence_by_token(sentence1, interesting_token):\n",
    "    count = 0\n",
    "    count2 = 1\n",
    "    for token in sentence1:\n",
    "        if token.text.lower() in interesting_token:\n",
    "            count +=1\n",
    "    for token in sentence1:\n",
    "        if not(token.is_space or token.is_punct):\n",
    "            count2 += 1\n",
    "    return count/count2\n",
    "\n",
    "List_of_token_scores=[]\n",
    "sentence_numbers=[]\n",
    "for i in doc.sents:\n",
    "    List_of_token_scores.append(score_sentence_by_token(i,important_tokens))\n",
    "\n",
    "import matplotlib as mpl\n",
    "import matplotlib.pyplot as plt\n",
    "import numpy as np\n",
    "fig, ax=plt.subplots()\n",
    "ax.hist(List_of_token_scores,bins=20)\n",
    "labels=ax.get_xticklabels()\n",
    "ax.set(xlabel='TokenScores',ylabel='Frequency',title='Token Score histogram')\n"
   ]
  },
  {
   "cell_type": "markdown",
   "metadata": {},
   "source": [
    "Around .01 seems to be the most common Sentence token score."
   ]
  },
  {
   "cell_type": "markdown",
   "metadata": {},
   "source": [
    "6. Make a list containing the scores (using lemmas) of every sentence in the article, and plot a histogram with appropriate titles and axis labels of the scores.  From your histogram, what seems to be the most common range of scores (put the answer in a comment after your code)?"
   ]
  },
  {
   "cell_type": "code",
   "execution_count": 95,
   "metadata": {},
   "outputs": [
    {
     "data": {
      "text/plain": [
       "[Text(0.5, 0, 'LemmaScores'),\n",
       " Text(0, 0.5, 'Frequency'),\n",
       " Text(0.5, 1.0, 'Lemma Score histogram')]"
      ]
     },
     "execution_count": 95,
     "metadata": {},
     "output_type": "execute_result"
    },
    {
     "data": {
      "image/png": "[encoded data removed]",
      "text/plain": [
       "<Figure size 432x288 with 1 Axes>"
      ]
     },
     "metadata": {
      "needs_background": "light"
     },
     "output_type": "display_data"
    }
   ],
   "source": [
    "import spacy\n",
    "from spacytextblob.spacytextblob import SpacyTextBlob\n",
    "import pickle\n",
    "from bs4 import BeautifulSoup\n",
    "from collections import Counter\n",
    "with open ('MTGBlog.pkl','rb') as f:\n",
    "    htmldoc=pickle.load(f)\n",
    "soup=BeautifulSoup(htmldoc,'html5lib')\n",
    "text=soup.find('article')\n",
    "nlp = spacy.load('en_core_web_sm')\n",
    "nlp.add_pipe('spacytextblob')\n",
    "doc=nlp(text.get_text())\n",
    "def important_words(token):\n",
    "    return not (token.is_space or token.is_punct or token.is_stop)\n",
    "important_tokens = [token for token in doc if important_words(token)]\n",
    "token_freq=Counter(map(str,important_tokens))\n",
    "important_tokens = set()\n",
    "for token, freq in token_freq.most_common(5):\n",
    "    important_tokens.add(token)\n",
    "\n",
    "important_lemmas=[token.lemma_.lower() for token in doc if important_words(token)]\n",
    "\n",
    "lemma_freq=Counter(important_lemmas)\n",
    "\n",
    "important_lemmas = set()\n",
    "for lemma, freq in lemma_freq.most_common(5):\n",
    "    important_lemmas.add(lemma)\n",
    "\n",
    "def score_sentence_by_token(sentence1, interesting_token):\n",
    "    count = 0\n",
    "    count2 = 1\n",
    "    for token in sentence1:\n",
    "        if token.text.lower() in interesting_token:\n",
    "            count +=1\n",
    "    for token in sentence1:\n",
    "        if not(token.is_space or token.is_punct):\n",
    "            count2 += 1\n",
    "    return count/count2\n",
    "\n",
    "\n",
    "def score_sentence_by_lemma(sentence1, interesting_lemmas):\n",
    "    count=0\n",
    "    count2=1\n",
    "    for token in sentence1:\n",
    "        if token.lemma_.lower()in interesting_lemmas:\n",
    "            count+=1\n",
    "        if not(token.is_space or token.is_punct):\n",
    "            count2 += 1\n",
    "    return count/count2\n",
    "\n",
    "List_of_lemma_scores=[]\n",
    "sentence_numbers=[]\n",
    "for i in doc.sents:\n",
    "    List_of_lemma_scores.append(score_sentence_by_lemma(i,important_lemmas))\n",
    "import matplotlib as mpl\n",
    "import matplotlib.pyplot as plt\n",
    "import numpy as np\n",
    "fig, ax=plt.subplots()\n",
    "ax.hist(List_of_lemma_scores,bins=20)\n",
    "labels=ax.get_xticklabels()\n",
    "ax.set(xlabel='LemmaScores',ylabel='Frequency',title='Lemma Score histogram')"
   ]
  },
  {
   "cell_type": "markdown",
   "metadata": {},
   "source": [
    "It still seems to be around .02 is the most common score."
   ]
  },
  {
   "cell_type": "markdown",
   "metadata": {},
   "source": [
    "7. Using the histograms from questions 5 and 6, decide a \"cutoff\" score for tokens and lemmas such that fewer than half the sentences would have a score greater than the cutoff score.  Record the scores in this Markdown cell\n",
    "\n",
    "* Cutoff Score (tokens): .11\n",
    "* Cutoff Score (lemmas): .1\n",
    "\n",
    "Feel free to change these scores as you generate your summaries.  Ideally, we're shooting for at least 6 sentences for our summary, but don't want more than 10 (these numbers are rough estimates; they depend on the length of your article)."
   ]
  },
  {
   "cell_type": "markdown",
   "metadata": {},
   "source": [
    "8. Create a summary of the article by going through every sentence in the article and adding it to an (initially) empty list if its score (based on tokens) is greater than the cutoff score you identified in question 8.  If your loop variable is named `sent`, you may find it easier to add `sent.text.strip()` to your list of sentences.  Print the summary (I would cleanly generate the summary text by `join`ing the strings in your list together with a space (`' '.join(sentence_list)`)."
   ]
  },
  {
   "cell_type": "code",
   "execution_count": 114,
   "metadata": {},
   "outputs": [
    {
     "name": "stdout",
     "output_type": "stream",
     "text": [
      "But is 30th Anniversary Edition really that bad?  Cards from Beta Are Missing?What Are the Odds of Getting Power 9 in 30th Anniversary  30th Anniversary Edition  What’s the Price of 30th Anniversary Edition?  Is 30th Anniversary Edition Tournament Legal?  Nope, you can’t play the 30th Anniversary Edition cards in any sanctioned format.  the 30th Anniversary Edition cards into Commander pods with permission.  What Cards from Beta Are Missing?  Is 30th Anniversary Edition Draftable?  Yes, 30th Anniversary Edition is draftable in theory!  Enable Bootstrap Tooltips\n",
      "                        $('[data-toggle=\"tooltip\"]').tooltip();\n",
      "\n",
      "                    });\n",
      "                \n",
      "MTG MTG 30th anniversary MTG 30th anniversary edition MTG 30th anniversary edition recommendation MTG 30th anniversary edition review MTG 30th anniversary promos MTG cards MTG collection MTG product review MTG products\n",
      "\n",
      "  \n",
      "\n",
      " Bryan Hohns (Veveil)\n"
     ]
    }
   ],
   "source": [
    "import spacy\n",
    "from spacytextblob.spacytextblob import SpacyTextBlob\n",
    "import pickle\n",
    "from bs4 import BeautifulSoup\n",
    "from collections import Counter\n",
    "#open MTGBlog pickle file and create readable doc for spacy\n",
    "with open ('MTGBlog.pkl','rb') as f:\n",
    "    htmldoc=pickle.load(f)\n",
    "soup=BeautifulSoup(htmldoc,'html5lib')\n",
    "text=soup.find('article')\n",
    "nlp = spacy.load('en_core_web_sm')\n",
    "nlp.add_pipe('spacytextblob')\n",
    "doc=nlp(text.get_text())\n",
    "\n",
    "\n",
    "def summarizer(doc):\n",
    "    #define important words for spacy\n",
    "    def important_words(token):\n",
    "        return not (token.is_space or token.is_punct or token.is_stop)\n",
    "    important_tokens = [token for token in doc if important_words(token)]\n",
    "    token_freq=Counter(map(str,important_tokens))\n",
    "    important_tokens = set()\n",
    "    for token, freq in token_freq.most_common(5):\n",
    "        important_tokens.add(token)\n",
    "    \n",
    "    #Score Sentence Function by token\n",
    "    def score_sentence_by_token(sentence1, interesting_token):\n",
    "        count = 0\n",
    "        count2 = 1\n",
    "        for token in sentence1:\n",
    "            if token.text.lower() in interesting_token:\n",
    "                count +=1\n",
    "        for token in sentence1:\n",
    "            if not(token.is_space or token.is_punct):\n",
    "                count2 += 1\n",
    "        return count/count2\n",
    "    #create empty list for sentences\n",
    "    important_sent=[]\n",
    "    #break article into sentences\n",
    "    sentences = list(doc.sents)\n",
    "    for sent in sentences:\n",
    "        if score_sentence_by_token(sent,important_tokens) >= .11:\n",
    "            important_sent.append(sent.text.strip())\n",
    "    sent_str = str(sentence)\n",
    "    print('  '.join(important_sent))\n",
    "summarizer(doc)\n",
    "    \n",
    "    "
   ]
  },
  {
   "cell_type": "markdown",
   "metadata": {},
   "source": [
    "9. Print the polarity score of your summary you generated with the token scores (with an appropriate label). Additionally, print the number of sentences in the summarized article."
   ]
  },
  {
   "cell_type": "code",
   "execution_count": 113,
   "metadata": {},
   "outputs": [
    {
     "name": "stdout",
     "output_type": "stream",
     "text": [
      "Polarity Score of the Aritcle:   -0.13749999999999996\n",
      "Number of Sentences in Article:   9\n"
     ]
    }
   ],
   "source": [
    "import spacy\n",
    "from spacytextblob.spacytextblob import SpacyTextBlob\n",
    "import pickle\n",
    "from bs4 import BeautifulSoup\n",
    "from collections import Counter\n",
    "#open MTGBlog pickle file and create readable doc for spacy\n",
    "with open ('MTGBlog.pkl','rb') as f:\n",
    "    htmldoc=pickle.load(f)\n",
    "soup=BeautifulSoup(htmldoc,'html5lib')\n",
    "text=soup.find('article')\n",
    "nlp = spacy.load('en_core_web_sm')\n",
    "nlp.add_pipe('spacytextblob')\n",
    "doc=nlp(text.get_text())\n",
    "\n",
    "\n",
    "def summarizer(doc):\n",
    "    #define important words for spacy\n",
    "    def important_words(token):\n",
    "        return not (token.is_space or token.is_punct or token.is_stop)\n",
    "    important_tokens = [token for token in doc if important_words(token)]\n",
    "    token_freq=Counter(map(str,important_tokens))\n",
    "    important_tokens = set()\n",
    "    for token, freq in token_freq.most_common(5):\n",
    "        important_tokens.add(token)\n",
    "    \n",
    "    #Score Sentence Function by token\n",
    "    def score_sentence_by_token(sentence1, interesting_token):\n",
    "        count = 0\n",
    "        count2 = 1\n",
    "        for token in sentence1:\n",
    "            if token.text.lower() in interesting_token:\n",
    "                count +=1\n",
    "        for token in sentence1:\n",
    "            if not(token.is_space or token.is_punct):\n",
    "                count2 += 1\n",
    "        return count/count2\n",
    "    #create empty list for sentences\n",
    "    important_sent=[]\n",
    "    #break article into sentences\n",
    "    sentences = list(doc.sents)\n",
    "    for sent in sentences:\n",
    "        if score_sentence_by_token(sent,important_tokens) >= .11:\n",
    "            important_sent.append(sent.text.strip())\n",
    "    a='  '.join(important_sent)\n",
    "    return a\n",
    "Newdoc=nlp(summarizer(doc))\n",
    "print(\"Polarity Score of the Aritcle:  \", Newdoc._.blob.polarity)\n",
    "i=0\n",
    "for sentence in list(Newdoc.sents) :\n",
    "    i+=1\n",
    "print(\"Number of Sentences in Article:  \",i)  "
   ]
  },
  {
   "cell_type": "markdown",
   "metadata": {},
   "source": [
    "10. Create a summary of the article by going through every sentence in the article and adding it to an (initially) empty list if its score (based on lemmas) is greater than the cutoff score you identified in question 8.  If your loop variable is named `sent`, you may find it easier to add `sent.text.strip()` to your list of sentences.  Print the summary (I would cleanly generate the summary text by `join`ing the strings in your list together with a space (`' '.join(sentence_list)`)."
   ]
  },
  {
   "cell_type": "code",
   "execution_count": 123,
   "metadata": {},
   "outputs": [
    {
     "name": "stdout",
     "output_type": "stream",
     "text": [
      "Are you excited for Magic’s 30th Anniversary Edition?  But is 30th Anniversary Edition really that bad?  30th Anniversary Edition Draftable?How Can You Practice Drafting the Set (for Free)?Wrap Up  30th Anniversary Edition  Each box of 30th Anniversary Edition comes with four 15-card boosters.  What’s the Price of 30th Anniversary Edition?  Four packs of 30th Anniversary Edition cost $999.  Is 30th Anniversary Edition Tournament Legal?  Is 30th Anniversary Edition Draftable?  Yes, 30th Anniversary Edition is draftable in theory!  Enable Bootstrap Tooltips\n",
      "                        $('[data-toggle=\"tooltip\"]').tooltip();\n",
      "\n",
      "                    });\n",
      "                \n",
      "MTG MTG 30th anniversary MTG 30th anniversary edition MTG 30th anniversary edition recommendation MTG 30th anniversary edition review MTG 30th anniversary promos MTG cards MTG collection MTG product review MTG products\n",
      "\n",
      "  \n",
      "\n",
      " Bryan Hohns (Veveil)\n"
     ]
    }
   ],
   "source": [
    "import spacy\n",
    "from spacytextblob.spacytextblob import SpacyTextBlob\n",
    "import pickle\n",
    "from bs4 import BeautifulSoup\n",
    "from collections import Counter\n",
    "#open MTGBlog pickle file and create readable doc for spacy\n",
    "with open ('MTGBlog.pkl','rb') as f:\n",
    "    htmldoc=pickle.load(f)\n",
    "soup=BeautifulSoup(htmldoc,'html5lib')\n",
    "text=soup.find('article')\n",
    "nlp = spacy.load('en_core_web_sm')\n",
    "nlp.add_pipe('spacytextblob')\n",
    "doc=nlp(text.get_text())\n",
    "\n",
    "\n",
    "def summarizer_lemma(doc):\n",
    "    #define important words for spacy\n",
    "    def important_words(token):\n",
    "        return not (token.is_space or token.is_punct or token.is_stop)\n",
    "    important_lemmas=[token.lemma_.lower() for token in doc if important_words(token)]\n",
    "\n",
    "    lemma_freq=Counter(important_lemmas)\n",
    "\n",
    "    important_lemmas = set()\n",
    "    for lemma, freq in lemma_freq.most_common(5):\n",
    "        important_lemmas.add(lemma)\n",
    "    \n",
    "    #Score Sentence Function by token\n",
    "    def score_sentence_by_lemma(sentence1, interesting_lemmas):\n",
    "        count=0\n",
    "        count2=1\n",
    "        for token in sentence1:\n",
    "            if token.lemma_.lower()in interesting_lemmas:\n",
    "                count+=1\n",
    "            if not(token.is_space or token.is_punct):\n",
    "                count2 += 1\n",
    "        return count/count2\n",
    "    #create empty list for sentences\n",
    "    important_sent=[]\n",
    "    #break article into sentences\n",
    "    sentences = list(doc.sents)\n",
    "    for sent in sentences:\n",
    "        if score_sentence_by_token(sent,important_lemmas) >= .28:\n",
    "            important_sent.append(sent.text.strip())\n",
    "    print('  '.join(important_sent))\n",
    "\n",
    "summarizer_lemma(doc)"
   ]
  },
  {
   "cell_type": "markdown",
   "metadata": {},
   "source": [
    "11. Print the polarity score of your summary you generated with the lemma scores (with an appropriate label). Additionally, print the number of sentences in the summarized article."
   ]
  },
  {
   "cell_type": "code",
   "execution_count": 122,
   "metadata": {},
   "outputs": [
    {
     "name": "stdout",
     "output_type": "stream",
     "text": [
      "Polarity Score of the Aritcle:   0.12500000000000003\n",
      "Number of Sentences in Article:   9\n"
     ]
    }
   ],
   "source": [
    "import spacy\n",
    "from spacytextblob.spacytextblob import SpacyTextBlob\n",
    "import pickle\n",
    "from bs4 import BeautifulSoup\n",
    "from collections import Counter\n",
    "#open MTGBlog pickle file and create readable doc for spacy\n",
    "with open ('MTGBlog.pkl','rb') as f:\n",
    "    htmldoc=pickle.load(f)\n",
    "soup=BeautifulSoup(htmldoc,'html5lib')\n",
    "text=soup.find('article')\n",
    "nlp = spacy.load('en_core_web_sm')\n",
    "nlp.add_pipe('spacytextblob')\n",
    "doc=nlp(text.get_text())\n",
    "\n",
    "\n",
    "def summarizer_lemma(doc):\n",
    "    #define important words for spacy\n",
    "    def important_words(token):\n",
    "        return not (token.is_space or token.is_punct or token.is_stop)\n",
    "    important_lemmas=[token.lemma_.lower() for token in doc if important_words(token)]\n",
    "\n",
    "    lemma_freq=Counter(important_lemmas)\n",
    "\n",
    "    important_lemmas = set()\n",
    "    for lemma, freq in lemma_freq.most_common(5):\n",
    "        important_lemmas.add(lemma)\n",
    "    \n",
    "    #Score Sentence Function by token\n",
    "    def score_sentence_by_lemma(sentence1, interesting_lemmas):\n",
    "        count=0\n",
    "        count2=1\n",
    "        for token in sentence1:\n",
    "            if token.lemma_.lower()in interesting_lemmas:\n",
    "                count+=1\n",
    "            if not(token.is_space or token.is_punct):\n",
    "                count2 += 1\n",
    "        return count/count2\n",
    "    #create empty list for sentences\n",
    "    important_sent=[]\n",
    "    #break article into sentences\n",
    "    sentences = list(doc.sents)\n",
    "    for sent in sentences:\n",
    "        if score_sentence_by_token(sent,important_lemmas) >= .28:\n",
    "            important_sent.append(sent.text.strip())\n",
    "    a='  '.join(important_sent)\n",
    "    return a\n",
    "Newdoc=nlp(summarizer_lemma(doc))\n",
    "print(\"Polarity Score of the Aritcle:  \", Newdoc._.blob.polarity)\n",
    "i=0\n",
    "for sentence in list(Newdoc.sents) :\n",
    "    i+=1\n",
    "print(\"Number of Sentences in Article:  \",i) "
   ]
  },
  {
   "cell_type": "markdown",
   "metadata": {},
   "source": [
    "12.  Compare your polarity scores of your summaries to the polarity scores of the initial article.  Is there a difference?  Why do you think that may or may not be?.  Answer in this Markdown cell.  \n",
    "\n",
    "The polarity scores are very different. The token score shows that the article is negative while the lemma score shows it is positive. I believe this is due to the fact that the lemma score picked up more title's in its analysis. most of the titles in this article were questions with very little sentiment. On the other hand the token sentences brought up many of the issues with Magic's most recent release."
   ]
  },
  {
   "cell_type": "markdown",
   "metadata": {},
   "source": [
    "13. Based on your reading of the original article, which summary do you think is better (if there's a difference).  Why do you think this might be?\n",
    "I think that the token summary is more representitive in this case. The article is descirbing how poorly magic handled its 30th anniversary edition set. Once again I think the Lemmas pulled more of the headings that didn't give much information while the tokens pulled more of the \"meat\" of the article."
   ]
  }
 ],
 "metadata": {
  "kernelspec": {
   "display_name": "Python 3 (ipykernel)",
   "language": "python",
   "name": "python3"
  },
  "language_info": {
   "codemirror_mode": {
    "name": "ipython",
    "version": 3
   },
   "file_extension": ".py",
   "mimetype": "text/x-python",
   "name": "python",
   "nbconvert_exporter": "python",
   "pygments_lexer": "ipython3",
   "version": "3.9.12"
  }
 },
 "nbformat": 4,
 "nbformat_minor": 4
}
